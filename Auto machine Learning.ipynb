{
 "cells": [
  {
   "cell_type": "code",
   "execution_count": 1,
   "metadata": {},
   "outputs": [],
   "source": [
    "# Save CSV file with first 2 million rows only\n",
    "import pandas as pd\n",
    "train_df = pd.read_csv(\"C:/Users/vikar/Desktop/Viraj Karkar/Technocolab/Intro to Machine Learning/train.csv\", nrows = 2_000_000)\n",
    "train_df.to_csv(\"train_small.csv\", index=False)"
   ]
  },
  {
   "cell_type": "code",
   "execution_count": 2,
   "metadata": {},
   "outputs": [
    {
     "ename": "ModuleNotFoundError",
     "evalue": "No module named 'automl_tables_wrapper'",
     "output_type": "error",
     "traceback": [
      "\u001b[1;31m---------------------------------------------------------------------------\u001b[0m",
      "\u001b[1;31mModuleNotFoundError\u001b[0m                       Traceback (most recent call last)",
      "\u001b[1;32m<ipython-input-2-ea8d6f2ddab5>\u001b[0m in \u001b[0;36m<module>\u001b[1;34m\u001b[0m\n\u001b[0;32m     13\u001b[0m \u001b[1;33m\u001b[0m\u001b[0m\n\u001b[0;32m     14\u001b[0m \u001b[1;31m# Import the class defining the wrapper\u001b[0m\u001b[1;33m\u001b[0m\u001b[1;33m\u001b[0m\u001b[1;33m\u001b[0m\u001b[0m\n\u001b[1;32m---> 15\u001b[1;33m \u001b[1;32mfrom\u001b[0m \u001b[0mautoml_tables_wrapper\u001b[0m \u001b[1;32mimport\u001b[0m \u001b[0mAutoMLTablesWrapper\u001b[0m\u001b[1;33m\u001b[0m\u001b[1;33m\u001b[0m\u001b[0m\n\u001b[0m\u001b[0;32m     16\u001b[0m \u001b[1;33m\u001b[0m\u001b[0m\n\u001b[0;32m     17\u001b[0m \u001b[1;31m# Create an instance of the wrapper\u001b[0m\u001b[1;33m\u001b[0m\u001b[1;33m\u001b[0m\u001b[1;33m\u001b[0m\u001b[0m\n",
      "\u001b[1;31mModuleNotFoundError\u001b[0m: No module named 'automl_tables_wrapper'"
     ]
    }
   ],
   "source": [
    "PROJECT_ID = 'kaggle-playground-170215'\n",
    "BUCKET_NAME = 'automl-tutorial-alexis'\n",
    "\n",
    "DATASET_DISPLAY_NAME = 'taxi_fare_dataset'\n",
    "TRAIN_FILEPATH = \"../working/train_small.csv\" \n",
    "TEST_FILEPATH = \"../input/new-york-city-taxi-fare-prediction/test.csv\"\n",
    "\n",
    "TARGET_COLUMN = 'fare_amount'\n",
    "ID_COLUMN = 'key'\n",
    "\n",
    "MODEL_DISPLAY_NAME = 'tutorial_model'\n",
    "TRAIN_BUDGET = 4000\n",
    "\n",
    "# Import the class defining the wrapper\n",
    "from automl_tables_wrapper import AutoMLTablesWrapper\n",
    "\n",
    "# Create an instance of the wrapper\n",
    "amw = AutoMLTablesWrapper(project_id=PROJECT_ID,\n",
    "                          bucket_name=BUCKET_NAME,\n",
    "                          dataset_display_name=DATASET_DISPLAY_NAME,\n",
    "                          train_filepath=TRAIN_FILEPATH,\n",
    "                          test_filepath=TEST_FILEPATH,\n",
    "                          target_column=TARGET_COLUMN,\n",
    "                          id_column=ID_COLUMN,\n",
    "                          model_display_name=MODEL_DISPLAY_NAME,\n",
    "                          train_budget=TRAIN_BUDGET)"
   ]
  },
  {
   "cell_type": "code",
   "execution_count": null,
   "metadata": {},
   "outputs": [],
   "source": [
    "# Create and train the model\n",
    "amw.train_model()\n",
    "\n",
    "# Get predictions\n",
    "amw.get_predictions()"
   ]
  },
  {
   "cell_type": "code",
   "execution_count": null,
   "metadata": {},
   "outputs": [],
   "source": [
    "submission_df = pd.read_csv(\"../working/submission.csv\")\n",
    "submission_df.head()"
   ]
  }
 ],
 "metadata": {
  "kernelspec": {
   "display_name": "Python 3",
   "language": "python",
   "name": "python3"
  },
  "language_info": {
   "codemirror_mode": {
    "name": "ipython",
    "version": 3
   },
   "file_extension": ".py",
   "mimetype": "text/x-python",
   "name": "python",
   "nbconvert_exporter": "python",
   "pygments_lexer": "ipython3",
   "version": "3.8.5"
  }
 },
 "nbformat": 4,
 "nbformat_minor": 4
}
